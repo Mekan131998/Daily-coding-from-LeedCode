{
 "cells": [
  {
   "cell_type": "markdown",
   "id": "641c210b",
   "metadata": {},
   "source": [
    "# Daily coding: LeedCode"
   ]
  },
  {
   "cell_type": "markdown",
   "id": "de18e632",
   "metadata": {},
   "source": [
    "14. Common prefix \n",
    "\n",
    "    Difficulty level: easy"
   ]
  },
  {
   "cell_type": "code",
   "execution_count": 2,
   "id": "1586a7e0",
   "metadata": {},
   "outputs": [],
   "source": [
    "def longest_Common_Prefix(str1):\n",
    "    \n",
    "    if not str1:\n",
    "        return \"\"\n",
    "\n",
    "    short_str = min(str1,key=len)\n",
    "    print(\"short_str:\"+short_str)\n",
    "\n",
    "    for i, char in enumerate(short_str):\n",
    "        print(\"step-\"+str(i)+\" char:\"+char)\n",
    "        for other in str1:\n",
    "            print(other)\n",
    "            print(other[i])\n",
    "            if other[i] != char:\n",
    "                return short_str[:i]\n",
    "\n",
    "    return short_str \n",
    "\n"
   ]
  },
  {
   "cell_type": "code",
   "execution_count": 3,
   "id": "2d075181",
   "metadata": {},
   "outputs": [
    {
     "name": "stdout",
     "output_type": "stream",
     "text": [
      "short_str:flow\n",
      "step-0 char:f\n",
      "flower\n",
      "f\n",
      "flow\n",
      "f\n",
      "flight\n",
      "f\n",
      "step-1 char:l\n",
      "flower\n",
      "l\n",
      "flow\n",
      "l\n",
      "flight\n",
      "l\n",
      "step-2 char:o\n",
      "flower\n",
      "o\n",
      "flow\n",
      "o\n",
      "flight\n",
      "i\n"
     ]
    },
    {
     "data": {
      "text/plain": [
       "'fl'"
      ]
     },
     "execution_count": 3,
     "metadata": {},
     "output_type": "execute_result"
    }
   ],
   "source": [
    "strs = [\"flower\",\"flow\",\"flight\"]\n",
    "longest_Common_Prefix(strs)"
   ]
  },
  {
   "cell_type": "markdown",
   "id": "76983b4e",
   "metadata": {},
   "source": [
    "139. Word Break \n",
    "\n",
    "    difficulty level: Medium"
   ]
  },
  {
   "cell_type": "code",
   "execution_count": 4,
   "id": "e6dfa70e",
   "metadata": {},
   "outputs": [],
   "source": [
    "def wordBreak(s, wordDict):\n",
    "    arr=[]\n",
    "    \n",
    "    for word in wordDict:\n",
    "        print(word)\n",
    "        k=s.split(word)\n",
    "        print(k)\n",
    "        arr+=k\n",
    "        print(arr)\n",
    "    \n",
    "    result=list(set(arr))\n",
    "    result.remove('')\n",
    "    print(result)\n",
    "    result=result.sort()\n",
    "    wordDict=wordDict.sort()\n",
    "    \n",
    "    if result==wordDict: \n",
    "        return True \n",
    "    else:\n",
    "        return False"
   ]
  },
  {
   "cell_type": "code",
   "execution_count": 5,
   "id": "9d8a98d2",
   "metadata": {},
   "outputs": [
    {
     "name": "stdout",
     "output_type": "stream",
     "text": [
      "apple\n",
      "['', 'pen', 'pen', 'pen', '']\n",
      "['', 'pen', 'pen', 'pen', '']\n",
      "pen\n",
      "['apple', 'apple', 'apple', 'apple']\n",
      "['', 'pen', 'pen', 'pen', '', 'apple', 'apple', 'apple', 'apple']\n",
      "['apple', 'pen']\n"
     ]
    },
    {
     "data": {
      "text/plain": [
       "True"
      ]
     },
     "execution_count": 5,
     "metadata": {},
     "output_type": "execute_result"
    }
   ],
   "source": [
    "s = \"applepenapplepenapplepenapple\" \n",
    "wordDict = [\"apple\",\"pen\"]\n",
    "wordBreak(s, wordDict)"
   ]
  },
  {
   "cell_type": "code",
   "execution_count": 6,
   "id": "a3f72948",
   "metadata": {},
   "outputs": [
    {
     "name": "stdout",
     "output_type": "stream",
     "text": [
      "cats\n",
      "['', 'andog']\n",
      "['', 'andog']\n",
      "dog\n",
      "['catsan', '']\n",
      "['', 'andog', 'catsan', '']\n",
      "sand\n",
      "['cat', 'og']\n",
      "['', 'andog', 'catsan', '', 'cat', 'og']\n",
      "and\n",
      "['cats', 'og']\n",
      "['', 'andog', 'catsan', '', 'cat', 'og', 'cats', 'og']\n",
      "cat\n",
      "['', 'sandog']\n",
      "['', 'andog', 'catsan', '', 'cat', 'og', 'cats', 'og', '', 'sandog']\n",
      "['sandog', 'cat', 'cats', 'og', 'catsan', 'andog']\n"
     ]
    },
    {
     "data": {
      "text/plain": [
       "True"
      ]
     },
     "execution_count": 6,
     "metadata": {},
     "output_type": "execute_result"
    }
   ],
   "source": [
    "s = \"catsandog\" \n",
    "wordDict = [\"cats\",\"dog\",\"sand\",\"and\",\"cat\"]\n",
    "wordBreak(s, wordDict)"
   ]
  },
  {
   "cell_type": "code",
   "execution_count": null,
   "id": "87a9a353",
   "metadata": {},
   "outputs": [],
   "source": [
    "def wordBreak(s, wordDict):\n",
    "    arr=[]\n",
    "    \n",
    "    for word in wordDict:\n",
    "        arr+=s.split(word)\n",
    "    \n",
    "    result=list(set(arr))\n",
    "    result.remove('')\n",
    "    result=result.sort()\n",
    "    wordDict=wordDict.sort()\n",
    "    \n",
    "    if result==wordDict: \n",
    "        return True \n",
    "    else:\n",
    "        return False"
   ]
  },
  {
   "cell_type": "code",
   "execution_count": null,
   "id": "f37f0a9c",
   "metadata": {},
   "outputs": [],
   "source": []
  }
 ],
 "metadata": {
  "kernelspec": {
   "display_name": "Python 3 (ipykernel)",
   "language": "python",
   "name": "python3"
  },
  "language_info": {
   "codemirror_mode": {
    "name": "ipython",
    "version": 3
   },
   "file_extension": ".py",
   "mimetype": "text/x-python",
   "name": "python",
   "nbconvert_exporter": "python",
   "pygments_lexer": "ipython3",
   "version": "3.10.12"
  }
 },
 "nbformat": 4,
 "nbformat_minor": 5
}
